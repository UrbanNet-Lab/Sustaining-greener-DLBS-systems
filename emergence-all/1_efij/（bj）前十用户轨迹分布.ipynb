{
 "cells": [
  {
   "cell_type": "code",
   "execution_count": 3,
   "metadata": {},
   "outputs": [
    {
     "ename": "ImportError",
     "evalue": "cannot import name 'linear_model'",
     "output_type": "error",
     "traceback": [
      "\u001b[1;31m---------------------------------------------------------------------------\u001b[0m",
      "\u001b[1;31mImportError\u001b[0m                               Traceback (most recent call last)",
      "\u001b[1;32m<ipython-input-3-977c1deb9a6b>\u001b[0m in \u001b[0;36m<module>\u001b[1;34m\u001b[0m\n\u001b[0;32m     12\u001b[0m \u001b[1;32mimport\u001b[0m \u001b[0mcsv\u001b[0m\u001b[1;33m\u001b[0m\u001b[1;33m\u001b[0m\u001b[0m\n\u001b[0;32m     13\u001b[0m \u001b[1;32mfrom\u001b[0m \u001b[0mio\u001b[0m \u001b[1;32mimport\u001b[0m \u001b[0mStringIO\u001b[0m\u001b[1;33m\u001b[0m\u001b[1;33m\u001b[0m\u001b[0m\n\u001b[1;32m---> 14\u001b[1;33m \u001b[1;32mfrom\u001b[0m \u001b[0msklearn\u001b[0m \u001b[1;32mimport\u001b[0m \u001b[0mlinear_model\u001b[0m\u001b[1;33m\u001b[0m\u001b[1;33m\u001b[0m\u001b[0m\n\u001b[0m\u001b[0;32m     15\u001b[0m \u001b[1;31m#import tensorflow as tf\u001b[0m\u001b[1;33m\u001b[0m\u001b[1;33m\u001b[0m\u001b[1;33m\u001b[0m\u001b[0m\n\u001b[0;32m     16\u001b[0m \u001b[0mplt\u001b[0m\u001b[1;33m.\u001b[0m\u001b[0mrcParams\u001b[0m\u001b[1;33m[\u001b[0m\u001b[1;34m\"font.sans-serif\"\u001b[0m\u001b[1;33m]\u001b[0m\u001b[1;33m=\u001b[0m\u001b[1;33m[\u001b[0m\u001b[1;34m\"SimHei\"\u001b[0m\u001b[1;33m]\u001b[0m \u001b[1;31m#用来正常显示中文标签\u001b[0m\u001b[1;33m\u001b[0m\u001b[1;33m\u001b[0m\u001b[0m\n",
      "\u001b[1;31mImportError\u001b[0m: cannot import name 'linear_model'"
     ]
    }
   ],
   "source": [
    "import pandas as pd\n",
    "import matplotlib.pyplot as plt\n",
    "import numpy as np\n",
    "import random\n",
    "import copy\n",
    "import time\n",
    "import sys\n",
    "import math\n",
    "import datetime\n",
    "from math import radians, cos, sin, asin, sqrt\n",
    "from matplotlib.colors import LogNorm\n",
    "import csv\n",
    "from io import StringIO\n",
    "from sklearn import linear_model\n",
    "#import tensorflow as tf\n",
    "plt.rcParams[\"font.sans-serif\"]=[\"SimHei\"] #用来正常显示中文标签\n",
    "plt.rcParams[\"axes.unicode_minus\"]=False #用来正常显示负号"
   ]
  },
  {
   "cell_type": "code",
   "execution_count": null,
   "metadata": {},
   "outputs": [],
   "source": [
    "import re                                               \n",
    "def go_split(s, symbol):\n",
    "    # 拼接正则表达式\n",
    "    symbol = \"[\" + symbol + \"]+\"\n",
    "    # 一次性分割字符串\n",
    "    result = re.split(symbol, s)\n",
    "    # 去除空字符\n",
    "    return [x for x in result if x]"
   ]
  },
  {
   "cell_type": "code",
   "execution_count": null,
   "metadata": {},
   "outputs": [],
   "source": [
    "def str_num(path):\n",
    "    lon = []\n",
    "    lat = []\n",
    "    path1 = path.replace(\"'\",'')\n",
    "    path2 = path1.replace(\";\",\",\")\n",
    "    path3 = path2.replace(' ','')\n",
    "    path4 = path3.replace('[','')\n",
    "    path5 = path4.replace(']','')\n",
    "    path_re = path5.split(',')\n",
    "    for i in range(len(path_re)):\n",
    "        if i%2 == 0:\n",
    "            lat.append(float(path_re[i]))\n",
    "        else:\n",
    "            lon.append(float(path_re[i]))\n",
    "    return lon,lat\n",
    "filename = 'user.csv'\n",
    "path = []\n",
    "path_small = []\n",
    "bikeid = []\n",
    "count = 0\n",
    "with open(filename,'rt',encoding='gbk') as csvfile:\n",
    "    reader = csv.reader(csvfile)\n",
    "    for record in reader:\n",
    "        if len(record) == 2:\n",
    "            bikeid.append(record[0])\n",
    "            if count != 0:\n",
    "                path.append(path_small)\n",
    "                count = 0\n",
    "                path_small = []  \n",
    "                \n",
    "        if len(record) == 5:\n",
    "            count += 1\n",
    "            path_small.append(record[4])\n",
    "path.append(path_small)\n",
    "csvfile.close()   \n"
   ]
  },
  {
   "cell_type": "code",
   "execution_count": null,
   "metadata": {},
   "outputs": [],
   "source": [
    "col = ['darkgoldenrod','darkgray', 'darkgreen','darkkhaki','darkmagenta','darkorange','darkorchid','darkred','darksalmon','orange','lightgreen', 'lightgray','lightpink','lightsalmon','lightseagreen','lightskyblue','lightslategray','lightsteelblue','lightyellow', \n",
    "'lime','cornflowerblue','cornsilk','crimson','cyan', 'darkblue','darkcyan','aliceblue','antiquewhite','aqua','aquamarine','azure','beige','bisque','black','blanchedalmond','blue','blueviolet','brown', \n",
    "'burlywood', 'cadetblue','chartreuse','chocolate', 'coral', 'darkolivegreen', 'darkseagreen',\n",
    "'darkslateblue', 'darkslategray','darkturquoise','darkviolet', 'deeppink','deepskyblue','dimgray','dodgerblue', 'firebrick','floralwhite', \n",
    "'forestgreen', 'fuchsia','gainsboro', 'ghostwhite','gold','goldenrod','gray','green', 'greenyellow', 'honeydew','hotpink','indianred', \n",
    "'indigo', 'ivory','khaki','lavender','lavenderblush','lawngreen','lemonchiffon','lightblue','lightcoral', 'lightcyan', 'lightgoldenrodyellow', \n",
    "'lightgreen', 'lightgray','lightpink','lightsalmon','lightseagreen','lightskyblue','lightslategray','lightsteelblue','lightyellow', \n",
    "'lime', 'limegreen','linen','magenta', 'maroon','mediumaquamarine','mediumblue','mediumorchid','mediumpurple','mediumseagreen', \n",
    "'mediumslateblue', 'mediumspringgreen','mediumturquoise','mediumvioletred','midnightblue', 'mintcream','mistyrose','moccasin', \n",
    "'navajowhite', 'navy','oldlace','olive','olivedrab','orangered','orchid','palegoldenrod','palegreen','paleturquoise', \n",
    "'palevioletred','papayawhip','peachpuff','peru','pink','plum','powderblue','purple','red','rosybrown','royalblue','saddlebrown','salmon', \n",
    "'sandybrown', 'seagreen','seashell', 'sienna','silver','skyblue','slateblue','slategray','snow','springgreen','steelblue','tan','teal', \n",
    "'thistle', 'tomato','turquoise','violet', 'wheat', 'white','whitesmoke','yellow', 'yellowgreen'] "
   ]
  },
  {
   "cell_type": "code",
   "execution_count": null,
   "metadata": {},
   "outputs": [],
   "source": [
    "df2=pd.read_csv('北京边界数据.csv')   #北京边界\n",
    "bj_x=df2[\"x\"].tolist()\n",
    "bj_y=df2[\"y\"].tolist()"
   ]
  },
  {
   "cell_type": "code",
   "execution_count": null,
   "metadata": {},
   "outputs": [],
   "source": [
    "cy=39.91667   #北京市中心坐标\n",
    "cx=116.41667"
   ]
  },
  {
   "cell_type": "code",
   "execution_count": null,
   "metadata": {},
   "outputs": [],
   "source": [
    "x12=[116.2,116.2]\n",
    "y12=[40.2,39.8]\n",
    "x13=[116.2,116.7]\n",
    "y13=[40.2,40.2]\n",
    "x34=[116.7,116.7]\n",
    "y34=[40.2,39.8]\n",
    "x42=[116.7,116.2]\n",
    "y42=[39.8,39.8]"
   ]
  },
  {
   "cell_type": "code",
   "execution_count": null,
   "metadata": {},
   "outputs": [],
   "source": [
    "xx1=[117,117.5]\n",
    "yy1=[39.5,39.5]\n",
    "xx2=[117,117]\n",
    "yy2=[39.46,39.54]\n",
    "xx3=[117.5,117.5]"
   ]
  },
  {
   "cell_type": "code",
   "execution_count": null,
   "metadata": {
    "scrolled": false
   },
   "outputs": [],
   "source": [
    "fig= plt.figure(figsize=(6,6))      #只有进流量的区域\n",
    "ax = fig.add_subplot(1,1,1)  \n",
    "fig.set_facecolor('white')\n",
    "ax.xaxis.set_major_locator(plt.MultipleLocator(0.1))#设置x主坐标间隔 1       \n",
    "ax.xaxis.set_minor_locator(plt.MultipleLocator(0.025))#设置x从坐标间隔 0.1    经度相差1度  距离随纬度变化\n",
    "ax.yaxis.set_major_locator(plt.MultipleLocator(0.1))#设置y主坐标间隔 1\n",
    "ax.yaxis.set_minor_locator(plt.MultipleLocator(0.025))#设置y从坐标间隔 0.1    纬度相差1度是111公里\n",
    "ax.grid(which='major', axis='x', linewidth=0.75, linestyle='-', color='0.75')#由每个x主坐标出发对x主坐标画垂直于x轴的线段\n",
    "#ax.grid(which='minor', axis='x', linewidth=0.25, linestyle='-', color='0.75')#由每个x主坐标出发对x主坐标画垂直于x轴的线段\n",
    "ax.grid(which='major', axis='y', linewidth=0.75, linestyle='-', color='0.75')\n",
    "#ax.grid(which='minor', axis='y', linewidth=0.25, linestyle='-', color='0.75')\n",
    "#plt.title(\"All starting points\",fontsize=18)    #所有出发点\n",
    "ax.set_xlabel(\"longitude\",fontdict={'size'   : 22,\"family\":\"Arial\"})#经度\n",
    "ax.set_ylabel(\"latitude\",fontdict={ 'size'   : 22,\"family\":\"Arial\"})#纬度\n",
    "#ax.scatter(cx,cy,color=\"red\",s=30)\n",
    "my_x_ticks = np.arange(115.3, 117.7, 0.5)\n",
    "plt.xticks(my_x_ticks)\n",
    "my_y_ticks = np.arange(39.4, 41.2, 0.5)\n",
    "plt.yticks(my_y_ticks)\n",
    "plt.yticks(fontproperties = 'Arial')\n",
    "plt.xticks(fontproperties = 'Arial')\n",
    "\n",
    "plt.tick_params(labelsize=16)\n",
    "plt.plot(bj_x,bj_y,color=\"black\",linewidth=\"3\")\n",
    "\n",
    "for i in range(len(path)):#某个用户\n",
    "    for j in range(len(path[i])):\n",
    "        lon,lat=str_num(path[i][j])\n",
    "        colo=col[i]\n",
    "        plt.plot(lat,lon,alpha=0.5,color=colo,linewidth=2)\n",
    "ax.scatter(cx,cy,color=\"red\",s=30)\n",
    "plt.plot(x12,y12,color='blue',alpha=0.8,ls='--')\n",
    "plt.plot(x13,y13,color='blue',alpha=0.8,ls='--')\n",
    "plt.plot(x34,y34,color='blue',alpha=0.8,ls='--')\n",
    "plt.plot(x42,y42,color='blue',alpha=0.8,ls='--')\n",
    "plt.plot(xx1,yy1,color='black')\n",
    "plt.plot(xx2,yy2,color='black')\n",
    "plt.plot(xx3,yy2,color='black')\n",
    "plt.text(117.18,39.53, 'km',fontdict=dict(fontsize=20,family='monospace'))\n",
    "plt.text(117.2,39.4, '45',fontsize=18)\n",
    "fig.subplots_adjust(left=0.2)\n",
    "#plt.savefig('bj用户.pdf',bbox_inches='tight')"
   ]
  },
  {
   "cell_type": "code",
   "execution_count": 10,
   "metadata": {},
   "outputs": [
    {
     "data": {
      "image/png": "[encoded data removed]",
      "text/plain": [
       "<Figure size 432x432 with 1 Axes>"
      ]
     },
     "metadata": {},
     "output_type": "display_data"
    }
   ],
   "source": [
    "fig= plt.figure(figsize=(6,6))\n",
    "ax = fig.add_subplot(1,1,1) \n",
    "fig.set_facecolor('white')\n",
    "ax.xaxis.set_major_locator(plt.MultipleLocator(0.1))#设置x主坐标间隔 1       \n",
    "ax.xaxis.set_minor_locator(plt.MultipleLocator(0.025))#设置x从坐标间隔 0.1    经度相差1度  距离随纬度变化\n",
    "ax.yaxis.set_major_locator(plt.MultipleLocator(0.1))#设置y主坐标间隔 1\n",
    "ax.yaxis.set_minor_locator(plt.MultipleLocator(0.025))#设置y从坐标间隔 0.1    纬度相差1度是111公里\n",
    "ax.grid(which='major', axis='x', linewidth=0.75, linestyle='-', color='0.75')#由每个x主坐标出发对x主坐标画垂直于x轴的线段\n",
    "#ax.grid(which='minor', axis='x', linewidth=0.25, linestyle='-', color='0.75')#由每个x主坐标出发对x主坐标画垂直于x轴的线段\n",
    "ax.grid(which='major', axis='y', linewidth=0.75, linestyle='-', color='0.75')\n",
    "#ax.grid(which='minor', axis='y', linewidth=0.25, linestyle='-', color='0.75')\n",
    "#plt.title(\"All starting points\",fontsize=18)    #所有出发点\n",
    "ax.set_xlabel(\"longitude\",fontdict={'size'   : 22,\"family\":\"Arial\"})#经度\n",
    "ax.set_ylabel(\"latitude\",fontdict={ 'size'   : 22,\"family\":\"Arial\"})#纬度\n",
    "#ax.scatter(cx,cy,color=\"red\",s=30)\n",
    "my_x_ticks = np.arange(115.3, 117.7, 0.2)\n",
    "plt.xticks(my_x_ticks)\n",
    "my_y_ticks = np.arange(39.4, 41.2, 0.2)\n",
    "plt.yticks(my_y_ticks)\n",
    "plt.yticks(fontproperties = 'Arial')\n",
    "plt.xticks(fontproperties = 'Arial')\n",
    "\n",
    "plt.tick_params(labelsize=16)\n",
    "for i in range(len(path)):#某个用户\n",
    "    for j in range(len(path[i])):\n",
    "        lon,lat=str_num(path[i][j])\n",
    "        colo=col[i]\n",
    "        plt.plot(lat,lon,alpha=0.5,color=colo,linewidth=2)\n",
    "ax.scatter(cx,cy,color=\"red\",s=30)\n",
    "#plt.savefig('bj用户（1）.pdf',bbox_inches='tight')"
   ]
  },
  {
   "cell_type": "code",
   "execution_count": null,
   "metadata": {},
   "outputs": [],
   "source": []
  }
 ],
 "metadata": {
  "kernelspec": {
   "display_name": "Python 3",
   "language": "python",
   "name": "python3"
  },
  "language_info": {
   "codemirror_mode": {
    "name": "ipython",
    "version": 3
   },
   "file_extension": ".py",
   "mimetype": "text/x-python",
   "name": "python",
   "nbconvert_exporter": "python",
   "pygments_lexer": "ipython3",
   "version": "3.6.10"
  }
 },
 "nbformat": 4,
 "nbformat_minor": 4
}
